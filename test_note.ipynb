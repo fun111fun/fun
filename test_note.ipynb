{
 "cells": [
  {
   "cell_type": "markdown",
   "id": "b696324b",
   "metadata": {},
   "source": [
    "# UCS"
   ]
  },
  {
   "cell_type": "code",
   "execution_count": 19,
   "id": "8b9a5407",
   "metadata": {
    "scrolled": true
   },
   "outputs": [],
   "source": [
    "# !pip install networkx\n",
    "# !pip install matplotlib"
   ]
  },
  {
   "cell_type": "code",
   "execution_count": 1,
   "id": "1df362d3",
   "metadata": {},
   "outputs": [],
   "source": [
    "from queue import PriorityQueue\n",
    "\n",
    "def ucs(graph, start, goal):\n",
    "    visited = set()\n",
    "    queue = PriorityQueue()\n",
    "    queue.put((0, [start]))  \n",
    "\n",
    "    while queue:\n",
    "        cost, path = queue.get()  \n",
    "        node = path[-1]  \n",
    "\n",
    "        if node not in visited:\n",
    "            visited.add(node)\n",
    "\n",
    "            if node == goal:\n",
    "                return path, cost\n",
    "\n",
    "            for neighbor, weight in graph.get(node, {}).items():\n",
    "                if neighbor not in visited:\n",
    "                    new_cost = cost + weight\n",
    "                    new_path = path + [neighbor]  \n",
    "                    queue.put((new_cost, new_path))  \n",
    "\n",
    "    return None, float('inf') "
   ]
  },
  {
   "cell_type": "code",
   "execution_count": 2,
   "id": "b6b6e81d",
   "metadata": {},
   "outputs": [
    {
     "name": "stdout",
     "output_type": "stream",
     "text": [
      "Path found: ['S', 'A', 'C', 'G']\n",
      "Cost: 4\n"
     ]
    }
   ],
   "source": [
    "graph = {\n",
    "    'S': {'A': 1, 'G': 12},                 # OR     ‘S’: [(‘A’,1), (‘G’,12) ],\n",
    "    'A': {'B': 3, 'C': 1},                  #        ‘A’: [(‘B’,3), (‘C’,1) ],\n",
    "    'B': {'D': 3},                          #        ‘B’: [(‘D’,3) ],\n",
    "    'C': {'D': 1, 'G': 2},                  #        ‘C’: [(‘D’,1), (‘G’,2) ],\n",
    "    'D': {'G': 3},                          #        ‘D’: [(‘G’,3) ],\n",
    "    'G': {}                                 #        ‘G’: [ ]\n",
    "}\n",
    "\n",
    "start_node = 'S'\n",
    "goal_node = 'G'\n",
    "\n",
    "path, cost = ucs(graph, start_node, goal_node)\n",
    "\n",
    "if path:\n",
    "    print(\"Path found:\", path)\n",
    "    print(\"Cost:\", cost)\n",
    "else:\n",
    "    print(\"Goal not reachable\")"
   ]
  },
  {
   "cell_type": "markdown",
   "id": "2503c257",
   "metadata": {},
   "source": [
    "# BFS"
   ]
  },
  {
   "cell_type": "code",
   "execution_count": 3,
   "id": "c08dddbb",
   "metadata": {},
   "outputs": [
    {
     "name": "stdout",
     "output_type": "stream",
     "text": [
      "['A', 'C', 'E', 'F', 'B', 'D', 'G']\n"
     ]
    }
   ],
   "source": [
    "graph = {\n",
    "    'A': ['C', 'E'],\n",
    "    'B': ['A', 'D', 'E'],\n",
    "    'C': ['A', 'F'],\n",
    "    'D': ['B', 'G'],\n",
    "    'E': ['A', 'B', 'D'],\n",
    "    'F': ['C'],\n",
    "    'G': ['C']\n",
    "}\n",
    "\n",
    "\n",
    "def bfs(graph, start):\n",
    "    explored = []\n",
    "    queue = [start]\n",
    "\n",
    "    while queue:\n",
    "\n",
    "        node = queue.pop(0)   \n",
    "        if node not in explored:\n",
    "            explored.append(node)\n",
    "            neighbours = graph[node]\n",
    "\n",
    "            for neighbour in neighbours:\n",
    "                queue.append(neighbour)\n",
    "    return explored\n",
    "\n",
    "print(bfs(graph, 'A'))  \n"
   ]
  },
  {
   "cell_type": "code",
   "execution_count": 4,
   "id": "4530cbf9",
   "metadata": {},
   "outputs": [
    {
     "name": "stdout",
     "output_type": "stream",
     "text": [
      "['A', 'E', 'D', 'G', 'C', 'F', 'B']\n"
     ]
    }
   ],
   "source": [
    "def dfs(graph, start):\n",
    "    explored = []\n",
    "    stack = [start]\n",
    "\n",
    "    while stack:\n",
    "        node = stack.pop()\n",
    "        if node not in explored:\n",
    "            explored.append(node)\n",
    "            neighbours = graph[node]\n",
    "\n",
    "            for neighbour in neighbours:\n",
    "                stack.append(neighbour)\n",
    "    return explored\n",
    "\n",
    "print(dfs(graph, 'A'))"
   ]
  },
  {
   "cell_type": "code",
   "execution_count": 5,
   "id": "59fce062",
   "metadata": {},
   "outputs": [
    {
     "name": "stdout",
     "output_type": "stream",
     "text": [
      "['A', 'E', 'D', 'G']\n"
     ]
    }
   ],
   "source": [
    "def bfs_shortest_path(graph, start, goal):\n",
    "    explored = []\n",
    "    queue = [[start]]\n",
    " \n",
    "    if start == goal:\n",
    "        return \"That was easy! Start = goal\"\n",
    "    \n",
    "    while queue:\n",
    "        path = queue.pop(0)\n",
    "        node = path[-1]\n",
    "        if node not in explored:\n",
    "            neighbours = graph[node]\n",
    "\n",
    "            for neighbour in neighbours:\n",
    "                new_path = list(path)\n",
    "                new_path.append(neighbour)\n",
    "                queue.append(new_path)\n",
    "                \n",
    "                if neighbour == goal:\n",
    "                    return new_path\n",
    " \n",
    "            explored.append(node)\n",
    "     \n",
    "    return \"So sorry, but a connecting path doesn't exist :(\"\n",
    "    \n",
    "\n",
    "print(bfs_shortest_path(graph, 'A', 'G')) "
   ]
  },
  {
   "cell_type": "markdown",
   "id": "1b91b104",
   "metadata": {},
   "source": [
    "# Graph Visulaization with Cost"
   ]
  },
  {
   "cell_type": "code",
   "execution_count": 6,
   "id": "63bc02c6",
   "metadata": {},
   "outputs": [
    {
     "data": {
      "image/png": "[encoded data removed]",
      "text/plain": [
       "<Figure size 640x480 with 1 Axes>"
      ]
     },
     "metadata": {},
     "output_type": "display_data"
    }
   ],
   "source": [
    "import networkx as nx\n",
    "import matplotlib.pyplot as plt\n",
    "\n",
    "def display_graph(graph):\n",
    "\n",
    "    # Create a directed graph\n",
    "    G = nx.DiGraph() # G = nx.Graph()\n",
    "\n",
    "    # Add edges to the graph\n",
    "    for node, edges in graph.items():\n",
    "        for neighbor, weight in edges.items():\n",
    "            G.add_edge(node, neighbor, weight=weight)\n",
    "\n",
    "    # Draw the graph\n",
    "    pos = nx.spring_layout(G)  # positions for all nodes\n",
    "    nx.draw(G, pos, with_labels=True, node_size=2000, node_color=\"skyblue\", font_size=15, font_weight=\"bold\")\n",
    "    edge_labels = nx.get_edge_attributes(G, 'weight')\n",
    "    nx.draw_networkx_edge_labels(G, pos, edge_labels=edge_labels)\n",
    "\n",
    "    plt.title(\"Graph Visualization\")\n",
    "    plt.show()\n",
    "\n",
    "# Example graph\n",
    "graph = {\n",
    "    'S': {'A': 1, 'G': 12},\n",
    "    'A': {'B': 3, 'C': 1},\n",
    "    'B': {'D': 3},\n",
    "    'C': {'D': 1, 'G': 2},\n",
    "    'D': {'G': 3},\n",
    "    'G': {}\n",
    "}\n",
    "\n",
    "# Display the graph\n",
    "display_graph(graph)"
   ]
  },
  {
   "cell_type": "markdown",
   "id": "1e6156e1",
   "metadata": {},
   "source": [
    "# Graph Visulaization without cost"
   ]
  },
  {
   "cell_type": "code",
   "execution_count": 7,
   "id": "2ebb1b8c",
   "metadata": {},
   "outputs": [
    {
     "data": {
      "image/png": "[encoded data removed]",
      "text/plain": [
       "<Figure size 640x480 with 1 Axes>"
      ]
     },
     "metadata": {},
     "output_type": "display_data"
    }
   ],
   "source": [
    "import networkx as nx\n",
    "import matplotlib.pyplot as plt\n",
    "\n",
    "graph = {\n",
    "    '5': ['3', '7'],\n",
    "    '3': ['2', '4'],\n",
    "    '2': [],\n",
    "    '4': ['8'],\n",
    "    '7': ['8'],\n",
    "    '8': []\n",
    "}\n",
    "\n",
    "\n",
    "G = nx.Graph(graph)\n",
    "nx.draw_networkx(G)\n",
    "plt.show()"
   ]
  },
  {
   "cell_type": "markdown",
   "id": "37e96ba8",
   "metadata": {},
   "source": [
    "# DFS"
   ]
  },
  {
   "cell_type": "code",
   "execution_count": 8,
   "id": "a40c2506",
   "metadata": {},
   "outputs": [
    {
     "name": "stdout",
     "output_type": "stream",
     "text": [
      "Following is the Depth-First Search\n",
      "['A', 'B', 'D', 'E', 'C', 'G', 'F']\n"
     ]
    }
   ],
   "source": [
    "graph = {\n",
    "    'A': ['B', 'C', 'E'],\n",
    "    'B': ['A', 'D', 'E'],\n",
    "    'C': ['A', 'G', 'F'],\n",
    "    'D': ['B'],\n",
    "    'E': ['A', 'B', 'D'],\n",
    "    'F': ['C'],\n",
    "    'G': ['C']\n",
    "}\n",
    "\n",
    "\n",
    "visited = set()\n",
    "stack = []   \n",
    "\n",
    "def dfs(visited, graph, node):\n",
    "    \n",
    "    if node not in visited:\n",
    "        stack.append(node)\n",
    "        visited.add(node)\n",
    "        for neighbour in graph[node]:\n",
    "            dfs(visited, graph, neighbour)\n",
    "    return stack\n",
    "\n",
    "\n",
    "print(\"Following is the Depth-First Search\")\n",
    "print(dfs(visited, graph, 'A'))"
   ]
  },
  {
   "cell_type": "code",
   "execution_count": 9,
   "id": "96d33f12",
   "metadata": {},
   "outputs": [
    {
     "name": "stdout",
     "output_type": "stream",
     "text": [
      "Path from A to I: ['A', 'B', 'F', 'I']\n"
     ]
    }
   ],
   "source": [
    "def dfs_path(graph, start, goal, path=None):\n",
    "    if path is None:\n",
    "        path = []\n",
    "\n",
    "    path = path + [start]\n",
    "\n",
    "    if start == goal:\n",
    "        return path\n",
    "\n",
    "    for node in graph[start]:\n",
    "        if node not in path:\n",
    "            new_path = dfs_path(graph, node, goal, path)\n",
    "            if new_path:\n",
    "                return new_path\n",
    "\n",
    "    return None\n",
    "\n",
    "\n",
    "graph = {\n",
    "    'A': ['B', 'C', 'D'],\n",
    "    'B': ['E', 'F'],\n",
    "    'C': ['G'],\n",
    "    'D': ['H'],\n",
    "    'E': [],\n",
    "    'F': ['I'],\n",
    "    'G': [],\n",
    "    'H': [],\n",
    "    'I': []\n",
    "}\n",
    "\n",
    "start_node = 'A'\n",
    "goal_node = 'I'\n",
    "path = dfs_path(graph, start_node, goal_node)\n",
    "\n",
    "if path:\n",
    "    print(f\"Path from {start_node} to {goal_node}: {path}\")\n",
    "else:\n",
    "    print(f\"No path found from {start_node} to {goal_node}\")"
   ]
  },
  {
   "cell_type": "markdown",
   "id": "0d411c04",
   "metadata": {},
   "source": [
    "# A star"
   ]
  },
  {
   "cell_type": "code",
   "execution_count": 10,
   "id": "5afabe59",
   "metadata": {},
   "outputs": [
    {
     "name": "stdout",
     "output_type": "stream",
     "text": [
      "Path found: ['A', 'E', 'D', 'G']\n"
     ]
    },
    {
     "data": {
      "text/plain": [
       "['A', 'E', 'D', 'G']"
      ]
     },
     "execution_count": 10,
     "metadata": {},
     "output_type": "execute_result"
    }
   ],
   "source": [
    "def aStarAlgo(start_node, stop_node):\n",
    "\n",
    "        open_set = set(start_node)\n",
    "        closed_set = set()\n",
    "        g = {} \n",
    "        parents = {}\n",
    "\n",
    "        g[start_node] = 0\n",
    "        \n",
    "        parents[start_node] = start_node\n",
    "\n",
    "        while len(open_set) > 0:\n",
    "            n = None\n",
    "\n",
    "            for v in open_set:\n",
    "                if n == None or g[v] + heuristic(v) < g[n] + heuristic(n):\n",
    "                    n = v\n",
    "\n",
    "            if n == stop_node or Graph_nodes[n] == None:\n",
    "                pass\n",
    "            else:\n",
    "                for (m, weight) in get_neighbors(n):\n",
    "                   \n",
    "                    if m not in open_set and m not in closed_set:\n",
    "                        open_set.add(m)\n",
    "                        parents[m] = n\n",
    "                        g[m] = g[n] + weight\n",
    "    \n",
    "                    else:\n",
    "                        if g[m] > g[n] + weight:\n",
    "                            g[m] = g[n] + weight\n",
    "                            parents[m] = n\n",
    "\n",
    "                            if m in closed_set:\n",
    "                                closed_set.remove(m)\n",
    "                                open_set.add(m)\n",
    " \n",
    "            if n == None:\n",
    "                print('Path does not exist!')\n",
    "                return None\n",
    "\n",
    "            if n == stop_node:\n",
    "                path = []\n",
    "\n",
    "                while parents[n] != n:\n",
    "                    path.append(n)\n",
    "                    n = parents[n]\n",
    "\n",
    "                path.append(start_node)\n",
    "\n",
    "                path.reverse()\n",
    "\n",
    "                print('Path found: {}'.format(path))\n",
    "                return path\n",
    "\n",
    "            open_set.remove(n)\n",
    "            closed_set.add(n)\n",
    "\n",
    "        print('Path does not exist!')\n",
    "        return None\n",
    "\n",
    "def get_neighbors(v):\n",
    "    if v in Graph_nodes:\n",
    "        return Graph_nodes[v]\n",
    "    else:\n",
    "        return None\n",
    "\n",
    "    \n",
    "def heuristic(n):\n",
    "        H_dist = {\n",
    "            'A': 11,\n",
    "            'B': 6,\n",
    "            'C': 99,\n",
    "            'D': 1,\n",
    "            'E': 7,\n",
    "            'G': 0,\n",
    "\n",
    "        }\n",
    "\n",
    "        return H_dist[n]\n",
    "\n",
    "Graph_nodes = {\n",
    "    'A': [('B', 2), ('E', 3)],\n",
    "    'B': [('C', 1),('G', 9)],\n",
    "    'C': None,\n",
    "    'E': [('D', 6)],\n",
    "    'D': [('G', 1)],\n",
    "\n",
    "}\n",
    "aStarAlgo('A', 'G')"
   ]
  },
  {
   "cell_type": "markdown",
   "id": "e6a0be14",
   "metadata": {},
   "source": [
    "# Maze"
   ]
  },
  {
   "cell_type": "code",
   "execution_count": 11,
   "id": "b3a2272c",
   "metadata": {},
   "outputs": [
    {
     "name": "stdout",
     "output_type": "stream",
     "text": [
      "$$$$$$$$\n",
      "$ $    $\n",
      "$ $ $$ $\n",
      "$    $ $\n",
      "$$$$ $ $\n",
      "$      $\n",
      "$$$$$$$$\n",
      "  ####     ##\n",
      "#           #\n",
      "# ####      #\n",
      "# #   #     #\n",
      "#       #   \n",
      "#############\n"
     ]
    },
    {
     "data": {
      "image/png": "[encoded data removed]",
      "text/plain": [
       "<Figure size 640x480 with 1 Axes>"
      ]
     },
     "metadata": {},
     "output_type": "display_data"
    },
    {
     "name": "stdout",
     "output_type": "stream",
     "text": [
      "# # # # # #\n",
      "# S       #\n",
      "#   #   # #\n",
      "#   #     #\n",
      "#       E #\n",
      "# # # # # #\n",
      "[(1, 1), (2, 1), (3, 1), (4, 1), (4, 2), (4, 3), (4, 4)]\n"
     ]
    }
   ],
   "source": [
    "def print_maze(maze):\n",
    "    for row in maze:\n",
    "        print(\"\".join([' ' if cell == 0 else '$' for cell in row]))\n",
    "\n",
    "maze = [               \n",
    "    [1, 1, 1, 1, 1, 1, 1, 1],\n",
    "    [1, 0, 1, 0, 0, 0, 0, 1],\n",
    "    [1, 0, 1, 0, 1, 1, 0, 1],\n",
    "    [1, 0, 0, 0, 0, 1, 0, 1],\n",
    "    [1, 1, 1, 1, 0, 1, 0, 1],\n",
    "    [1, 0, 0, 0, 0, 0, 0, 1],\n",
    "    [1, 1, 1, 1, 1, 1, 1, 1]\n",
    "]\n",
    "\n",
    "# Print the maze\n",
    "print_maze(maze)\n",
    "\n",
    "\n",
    "2. \n",
    "static_maze = [\n",
    "    \"  ####     ##\",\n",
    "    \"#           #\",\n",
    "    \"# ####      #\",\n",
    "    \"# #   #     #\",\n",
    "    \"#       #   \",\n",
    "    \"#############\"\n",
    "]\n",
    "for row in static_maze:\n",
    "    print(row)\n",
    "\n",
    "3.\n",
    "import matplotlib.pyplot as plt      \n",
    "import numpy as np                   \n",
    "\n",
    "def draw_maze(maze):\n",
    "    maze_array = np.array(maze)\n",
    "    plt.imshow(maze_array, cmap='binary')\n",
    "    plt.xticks([]), plt.yticks([]) \n",
    "    plt.show()\n",
    "\n",
    "draw_maze(maze)\n",
    "\n",
    "maze = [\n",
    "    [1, 1, 1, 1, 1],\n",
    "    [0, 0, 0, 0, 1],\n",
    "    [1, 0, 1, 0, 1],\n",
    "    [1, 0, 1, 0, 0],\n",
    "    [1, 1, 1, 1, 1]\n",
    "]\n",
    "\n",
    "\n",
    "\n",
    "from queue import Queue\n",
    "\n",
    "def bfs(maze, start, end):\n",
    "    queue = Queue()\n",
    "    queue.put([start])  \n",
    "\n",
    "    while queue:\n",
    "        path = queue.get() \n",
    "        x, y = path[-1]     \n",
    "\n",
    "        if (x, y) == end:\n",
    "            return path  \n",
    "\n",
    "        for dx, dy in [(1,0), (0,1), (-1,0), (0,-1)]:  \n",
    "            next_x, next_y = x + dx, y + dy\n",
    "            if maze[next_x][next_y] != '#' and (next_x, next_y) not in path:\n",
    "                new_path = list(path)\n",
    "                new_path.append((next_x, next_y))\n",
    "                queue.put(new_path)  \n",
    "\n",
    "\n",
    "maze = [\n",
    "    ['#', '#', '#', '#', '#', '#'],\n",
    "    ['#', 'S', ' ', ' ', ' ', '#'],\n",
    "    ['#', ' ', '#', ' ', '#', '#'],\n",
    "    ['#', ' ', '#', ' ', ' ', '#'],\n",
    "    ['#', ' ', ' ', ' ', 'E', '#'],\n",
    "    ['#', '#', '#', '#', '#', '#']\n",
    "]\n",
    "\n",
    "def visualize_maze(maze):\n",
    "    for row in maze:\n",
    "        print(' '.join(row))\n",
    "\n",
    "visualize_maze(maze)\n",
    "start = (1, 1)  \n",
    "end = (4, 4)   \n",
    "path = bfs(maze, start, end)\n",
    "print(path)"
   ]
  },
  {
   "cell_type": "markdown",
   "id": "2df71094",
   "metadata": {},
   "source": [
    "# Extra functions"
   ]
  },
  {
   "cell_type": "code",
   "execution_count": 12,
   "id": "7df7ac3f",
   "metadata": {},
   "outputs": [],
   "source": [
    "graph = {\n",
    "    'S': {'A': 1, 'G': 12},                 # OR     ‘S’: [(‘A’,1), (‘G’,12) ],\n",
    "    'A': {'B': 3, 'C': 1},                  #        ‘A’: [(‘B’,3), (‘C’,1) ],\n",
    "    'B': {'D': 3},                          #        ‘B’: [(‘D’,3) ],\n",
    "    'C': {'D': 1, 'G': 2},                  #        ‘C’: [(‘D’,1), (‘G’,2) ],\n",
    "    'D': {'G': 3},                          #        ‘D’: [(‘G’,3) ],\n",
    "    'G': {}                                 #        ‘G’: [ ]\n",
    "}\n"
   ]
  },
  {
   "cell_type": "code",
   "execution_count": 13,
   "id": "bf89a93b",
   "metadata": {},
   "outputs": [],
   "source": [
    "def add_node(node):\n",
    "    if node not in graph:\n",
    "        graph[node] = {}\n",
    "    \n",
    "add_node('T')"
   ]
  },
  {
   "cell_type": "code",
   "execution_count": 14,
   "id": "ca78e764",
   "metadata": {},
   "outputs": [
    {
     "name": "stdout",
     "output_type": "stream",
     "text": [
      "{'S': {'A': 1, 'G': 12}, 'A': {'B': 3, 'C': 1}, 'B': {'D': 3}, 'C': {'D': 1, 'G': 2}, 'D': {'G': 3}, 'G': {}, 'T': {}}\n"
     ]
    }
   ],
   "source": [
    "print(graph)"
   ]
  },
  {
   "cell_type": "code",
   "execution_count": 15,
   "id": "1413236e",
   "metadata": {},
   "outputs": [],
   "source": [
    "def add_edge(node1, node2, value):\n",
    "    if node2 not in graph[node1]:\n",
    "        graph[node1][node2] = value\n",
    "    \n",
    "add_edge('T', 'A', 6)"
   ]
  },
  {
   "cell_type": "code",
   "execution_count": 16,
   "id": "40e428b6",
   "metadata": {},
   "outputs": [
    {
     "name": "stdout",
     "output_type": "stream",
     "text": [
      "{'S': {'A': 1, 'G': 12}, 'A': {'B': 3, 'C': 1}, 'B': {'D': 3}, 'C': {'D': 1, 'G': 2}, 'D': {'G': 3}, 'G': {}, 'T': {'A': 6}}\n"
     ]
    }
   ],
   "source": [
    "print(graph)"
   ]
  },
  {
   "cell_type": "code",
   "execution_count": 17,
   "id": "1a645351",
   "metadata": {
    "scrolled": true
   },
   "outputs": [
    {
     "ename": "SyntaxError",
     "evalue": "invalid syntax (3094646172.py, line 2)",
     "output_type": "error",
     "traceback": [
      "\u001b[1;36m  Cell \u001b[1;32mIn[17], line 2\u001b[1;36m\u001b[0m\n\u001b[1;33m    if depth == 0 or node is a terminal node:\u001b[0m\n\u001b[1;37m                               ^\u001b[0m\n\u001b[1;31mSyntaxError\u001b[0m\u001b[1;31m:\u001b[0m invalid syntax\n"
     ]
    }
   ],
   "source": [
    "def minimax(node, depth, maximizingPlayer):\n",
    "    if depth == 0 or node is a terminal node:\n",
    "        return the heuristic value of the node\n",
    "    if maximizingPlayer:\n",
    "        bestValue = -infinity\n",
    "        for each child node of node:\n",
    "            v = minimax(child, depth - 1, FALSE)\n",
    "            bestValue = max(bestValue, v)\n",
    "        return bestValue\n",
    "    else:\n",
    "        bestValue = +infinity\n",
    "        for each child node of node:\n",
    "            v = minimax(child, depth - 1, TRUE)\n",
    "            bestValue = min(bestValue, v)\n",
    "        return bestValue"
   ]
  },
  {
   "cell_type": "code",
   "execution_count": null,
   "id": "28d425c5",
   "metadata": {},
   "outputs": [],
   "source": []
  },
  {
   "cell_type": "code",
   "execution_count": null,
   "id": "6960a302",
   "metadata": {},
   "outputs": [],
   "source": []
  },
  {
   "cell_type": "code",
   "execution_count": null,
   "id": "167da0ae",
   "metadata": {},
   "outputs": [],
   "source": []
  }
 ],
 "metadata": {
  "kernelspec": {
   "display_name": "Python 3 (ipykernel)",
   "language": "python",
   "name": "python3"
  },
  "language_info": {
   "codemirror_mode": {
    "name": "ipython",
    "version": 3
   },
   "file_extension": ".py",
   "mimetype": "text/x-python",
   "name": "python",
   "nbconvert_exporter": "python",
   "pygments_lexer": "ipython3",
   "version": "3.11.5"
  }
 },
 "nbformat": 4,
 "nbformat_minor": 5
}
